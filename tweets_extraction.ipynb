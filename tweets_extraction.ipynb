{
 "cells": [
  {
   "cell_type": "code",
   "execution_count": null,
   "id": "c94cb331",
   "metadata": {},
   "outputs": [],
   "source": [
    "#import tweepy as tw\n",
    "import numpy as np\n",
    "import pandas as pd\n",
    "import snscrape.modules.twitter as sntwitter"
   ]
  },
  {
   "cell_type": "code",
   "execution_count": null,
   "id": "d3a75fcc",
   "metadata": {},
   "outputs": [],
   "source": [
    "key_words = \"epidemia OR pandemia OR vacina OR vacinação OR coronavac OR butanvac OR pfizer OR astrazeneca OR jansen OR janssen OR moderna\"\n",
    "since_date = '2021-10-01'\n",
    "until_date = '2021-10-06'\n",
    "my_search = f'{key_words} lang:pt since:{since_date} until:{until_date}'\n",
    "my_search"
   ]
  },
  {
   "cell_type": "code",
   "execution_count": null,
   "id": "f361c7ad",
   "metadata": {},
   "outputs": [],
   "source": [
    "my_scraper = sntwitter.TwitterSearchScraper(my_search).get_items()"
   ]
  },
  {
   "cell_type": "code",
   "execution_count": null,
   "id": "c5e675ba",
   "metadata": {},
   "outputs": [],
   "source": [
    "#i=1\n",
    "#count=10\n",
    "tweets_id = list()\n",
    "while(True):\n",
    "    try:\n",
    "        #if(i > count):\n",
    "        #    break\n",
    "        #i=i+1\n",
    "        tweet = next(my_scraper)\n",
    "        tweets_id.append([tweet.id, tweet.date, tweet.rawContent, tweet.user.username, tweet.replyCount,\n",
    "                          tweet.retweetCount, tweet.likeCount, tweet.quoteCount, tweet.source, tweet.lang,\n",
    "                          tweet.place, tweet.hashtags])\n",
    "        #print(tweet.date)\n",
    "    except StopIteration:\n",
    "        break\n",
    "    except:\n",
    "        print('Encerrando extração...')\n",
    "        pass"
   ]
  },
  {
   "cell_type": "code",
   "execution_count": null,
   "id": "705a0635",
   "metadata": {},
   "outputs": [],
   "source": [
    "df_tweets = pd.DataFrame(tweets_id, columns=['ID', 'Data', 'Texto', 'Username', 'Qtd de respostas',\n",
    "                          'Qtd de retweets', 'Qtd de likes', 'Qtd de citações', 'Fonte', 'Idioma',\n",
    "                          'Localização', 'Hashtags'])"
   ]
  },
  {
   "cell_type": "code",
   "execution_count": null,
   "id": "83a335f3",
   "metadata": {},
   "outputs": [],
   "source": [
    "def find_in_tag(s):\n",
    "    try:\n",
    "        first = '>'\n",
    "        last = '</a>'\n",
    "        for value in s:\n",
    "            start = s.index(first) + len(first)\n",
    "            end = s.index(last, start)\n",
    "        return s[start:end]\n",
    "    except ValueError:\n",
    "        return \"\"\n",
    "\n",
    "i=0\n",
    "for value in df_tweets['Fonte']:\n",
    "    df_tweets.loc[i,'Fonte'] = find_in_tag(value)\n",
    "    i=i+1"
   ]
  },
  {
   "cell_type": "code",
   "execution_count": null,
   "id": "874bd8fa",
   "metadata": {},
   "outputs": [],
   "source": [
    "df_tweets"
   ]
  },
  {
   "cell_type": "code",
   "execution_count": null,
   "id": "1f3a6927",
   "metadata": {},
   "outputs": [],
   "source": [
    "df_tweets.to_csv('tweets.csv', sep=';', encoding='utf-8', index=False)"
   ]
  }
 ],
 "metadata": {
  "kernelspec": {
   "display_name": "Python 3 (ipykernel)",
   "language": "python",
   "name": "python3"
  },
  "language_info": {
   "codemirror_mode": {
    "name": "ipython",
    "version": 3
   },
   "file_extension": ".py",
   "mimetype": "text/x-python",
   "name": "python",
   "nbconvert_exporter": "python",
   "pygments_lexer": "ipython3",
   "version": "3.10.2"
  }
 },
 "nbformat": 4,
 "nbformat_minor": 5
}
